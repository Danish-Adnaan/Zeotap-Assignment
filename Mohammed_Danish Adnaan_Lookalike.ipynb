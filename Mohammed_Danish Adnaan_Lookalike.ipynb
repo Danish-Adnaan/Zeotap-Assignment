{
 "cells": [
  {
   "cell_type": "code",
   "execution_count": 76,
   "id": "a7bb2cf8-0059-4e15-9325-a9b1a675e8af",
   "metadata": {},
   "outputs": [],
   "source": [
    "import pandas as pd\n",
    "from sklearn.preprocessing import StandardScaler\n",
    "from sklearn.metrics.pairwise import cosine_similarity\n"
   ]
  },
  {
   "cell_type": "code",
   "execution_count": 78,
   "id": "e62f9e6f-9aaa-4d9f-a3c1-b867b5bc0784",
   "metadata": {},
   "outputs": [],
   "source": [
    "# Load datasets\n",
    "customers = pd.read_csv(\"C:/Users/danis/Downloads/Customers.csv\")\n",
    "products = pd.read_csv(\"C:/Users/danis/Downloads/Products.csv\")\n",
    "transactions = pd.read_csv(\"C:/Users/danis/Downloads/Transactions.csv\")"
   ]
  },
  {
   "cell_type": "code",
   "execution_count": 80,
   "id": "e53702e1-d42f-4fba-8e38-910d9e2c2547",
   "metadata": {},
   "outputs": [],
   "source": [
    "# Merge datasets\n",
    "transactions = transactions.merge(products, on='ProductID', how='left')\n",
    "customer_transactions = transactions.groupby('CustomerID').agg({\n",
    "    'Category': lambda x: ' '.join(set(x)),  # Combine unique product categories for each customer\n",
    "    'TotalValue': 'sum',                     # Total spending by customer\n",
    "    'TransactionID': 'count'                 # Number of transactions\n",
    "}).reset_index()"
   ]
  },
  {
   "cell_type": "code",
   "execution_count": 82,
   "id": "d557a601-4655-4919-8986-95ec3f77dde1",
   "metadata": {},
   "outputs": [],
   "source": [
    "# Merge customer profiles with customer data\n",
    "customer_data = customers.merge(customer_transactions, on='CustomerID', how='left').fillna({\n",
    "    'Category': '', 'TotalValue': 0, 'TransactionID': 0\n",
    "})"
   ]
  },
  {
   "cell_type": "code",
   "execution_count": 84,
   "id": "f3553427-c30b-4c0e-a25e-6e6c298921a8",
   "metadata": {},
   "outputs": [],
   "source": [
    "# Encode product categories and region\n",
    "category_encoded = customer_data['Category'].str.get_dummies(sep=' ')\n",
    "region_encoded = pd.get_dummies(customer_data['Region'], prefix=\"region\")\n"
   ]
  },
  {
   "cell_type": "code",
   "execution_count": 86,
   "id": "1ce89d3c-0a95-4712-8c8a-93dd01479b2b",
   "metadata": {},
   "outputs": [],
   "source": [
    "# Combine all features\n",
    "features = pd.concat([\n",
    "    customer_data[['TotalValue', 'TransactionID']],\n",
    "    category_encoded,\n",
    "    region_encoded\n",
    "], axis=1)\n"
   ]
  },
  {
   "cell_type": "code",
   "execution_count": 88,
   "id": "a5a316fe-9a7a-4f3e-8c3c-9f18bed712f5",
   "metadata": {},
   "outputs": [],
   "source": [
    "# Normalize numerical features\n",
    "scaler = StandardScaler()\n",
    "features[['TotalValue', 'TransactionID']] = scaler.fit_transform(features[['TotalValue', 'TransactionID']])"
   ]
  },
  {
   "cell_type": "code",
   "execution_count": 90,
   "id": "c0a86635-54d8-4ee3-aeed-6abcd0e065ec",
   "metadata": {},
   "outputs": [],
   "source": [
    "# Calculate Cosine Similarity\n",
    "similarity_matrix = cosine_similarity(features)\n",
    "similarity_df = pd.DataFrame(similarity_matrix, index=customer_data['CustomerID'], columns=customer_data['CustomerID'])"
   ]
  },
  {
   "cell_type": "code",
   "execution_count": 92,
   "id": "a3d99273-0866-4fa8-9b74-ad9777348eea",
   "metadata": {},
   "outputs": [],
   "source": [
    "# Generate Lookalike Recommendations\n",
    "lookalike_results = {}\n",
    "for idx, customer_id in enumerate(customer_data['CustomerID'][:20]):  # Limit to the first 20 customers\n",
    "    similar_customers = similarity_df[customer_id].sort_values(ascending=False)[1:4]  # Top 3 excluding self\n",
    "    lookalike_results[customer_id] = [(sim_cust, round(score, 4)) for sim_cust, score in similar_customers.items()]"
   ]
  },
  {
   "cell_type": "code",
   "execution_count": 94,
   "id": "1c385dda-2c0e-4065-92c6-37ecf6949f4a",
   "metadata": {},
   "outputs": [],
   "source": [
    "# Save results to CSV in required format\n",
    "lookalike_df = pd.DataFrame({\n",
    "    'CustomerID': lookalike_results.keys(),\n",
    "    'Lookalikes': [str(value) for value in lookalike_results.values()]\n",
    "    })\n",
    "csv_file_path = 'Lookalike.csv'\n",
    "lookalike_df.to_csv(csv_file_path, index=False)\n"
   ]
  },
  {
   "cell_type": "code",
   "execution_count": 96,
   "id": "635eaaee-8ea5-4b38-89a4-724f49d4a50a",
   "metadata": {},
   "outputs": [
    {
     "name": "stdout",
     "output_type": "stream",
     "text": [
      "Lookalike.csv has been generated successfully.\n",
      "  CustomerID                                         Lookalikes\n",
      "0      C0001  [('C0152', 1.0), ('C0174', 0.9938), ('C0085', ...\n",
      "1      C0002  [('C0159', 0.9799), ('C0134', 0.9595), ('C0043...\n",
      "2      C0003  [('C0031', 0.9871), ('C0129', 0.981), ('C0158'...\n",
      "3      C0004  [('C0012', 0.9889), ('C0102', 0.9403), ('C0113...\n",
      "4      C0005  [('C0007', 0.9922), ('C0140', 0.987), ('C0177'...\n"
     ]
    }
   ],
   "source": [
    "print(\"Lookalike.csv has been generated successfully.\")\n",
    "print(lookalike_df.head())"
   ]
  },
  {
   "cell_type": "code",
   "execution_count": 98,
   "id": "f3b39550-6201-46cc-8569-4ab09da994fd",
   "metadata": {},
   "outputs": [
    {
     "name": "stdout",
     "output_type": "stream",
     "text": [
      "Model Accuracy (Mean Average Similarity): 0.9301\n"
     ]
    }
   ],
   "source": [
    "# Evaluate Model Accuracy using Mean Average Similarity (MAS)\n",
    "def mean_average_similarity(similarity_df, lookalike_results):\n",
    "    total_similarity = 0\n",
    "    count = 0\n",
    "    for customer_id, lookalikes in lookalike_results.items():\n",
    "        for sim_cust, score in lookalikes:\n",
    "            total_similarity += score\n",
    "            count += 1\n",
    "    return round(total_similarity / count, 4) if count > 0 else 0\n",
    "\n",
    "accuracy_score = mean_average_similarity(similarity_df, lookalike_results)\n",
    "print(f\"Model Accuracy (Mean Average Similarity): {accuracy_score}\")"
   ]
  },
  {
   "cell_type": "code",
   "execution_count": null,
   "id": "1dc03e0c-f819-4819-a4fe-5fc8cf2d3abb",
   "metadata": {},
   "outputs": [],
   "source": []
  }
 ],
 "metadata": {
  "kernelspec": {
   "display_name": "Python 3 (ipykernel)",
   "language": "python",
   "name": "python3"
  },
  "language_info": {
   "codemirror_mode": {
    "name": "ipython",
    "version": 3
   },
   "file_extension": ".py",
   "mimetype": "text/x-python",
   "name": "python",
   "nbconvert_exporter": "python",
   "pygments_lexer": "ipython3",
   "version": "3.11.5"
  }
 },
 "nbformat": 4,
 "nbformat_minor": 5
}
